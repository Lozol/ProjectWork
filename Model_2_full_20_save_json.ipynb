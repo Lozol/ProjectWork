{
 "cells": [
  {
   "cell_type": "code",
   "execution_count": 1,
   "id": "8a291a36",
   "metadata": {},
   "outputs": [],
   "source": [
    "import cv2\n",
    "import os"
   ]
  },
  {
   "cell_type": "code",
   "execution_count": 2,
   "id": "d4a7a939",
   "metadata": {},
   "outputs": [],
   "source": [
    "data_path = \"C:\\\\Users\\\\User\\\\PyProject\\\\Cars\\\\base\"\n",
    "categories = os.listdir(data_path)"
   ]
  },
  {
   "cell_type": "code",
   "execution_count": 3,
   "id": "7beb8e66",
   "metadata": {},
   "outputs": [],
   "source": [
    "labels = [i for i in range (len(categories))]"
   ]
  },
  {
   "cell_type": "code",
   "execution_count": 4,
   "id": "20932f27",
   "metadata": {},
   "outputs": [],
   "source": [
    "label_dict = dict(zip(categories,labels))"
   ]
  },
  {
   "cell_type": "code",
   "execution_count": 5,
   "id": "a750d87f",
   "metadata": {},
   "outputs": [
    {
     "name": "stdout",
     "output_type": "stream",
     "text": [
      "{'without_damage_body_geometry': 0, 'with_damage_body_geometry': 1}\n",
      "['without_damage_body_geometry', 'with_damage_body_geometry']\n",
      "[0, 1]\n"
     ]
    }
   ],
   "source": [
    "print(label_dict)\n",
    "print(categories)\n",
    "print(labels)"
   ]
  },
  {
   "cell_type": "code",
   "execution_count": 6,
   "id": "9ac2b6a9",
   "metadata": {},
   "outputs": [],
   "source": [
    "img_size_hight = 480\n",
    "img_size_width = 640\n",
    "data = []\n",
    "target = []\n",
    "for category in categories:\n",
    "    folder_path = os.path.join(data_path,category)\n",
    "    img_names = os.listdir(folder_path)\n",
    "    \n",
    "    for img_name in img_names:\n",
    "        img_path = os.path.join(folder_path, img_name)\n",
    "        img = cv2.imread(img_path)\n",
    "        \n",
    "#        try:\n",
    "#            grey = cv2.cvtColor(img, cv2.COLOR_BGR2GRAY)\n",
    "#            resized = cv2.resize(img,(img_size_hight,img_size_width))\n",
    "            \n",
    "        data.append(img)\n",
    "            \n",
    "        target.append(label_dict[category])\n",
    "            \n",
    "#        except Exception as e:\n",
    "#            print(\"Exception:\", e)"
   ]
  },
  {
   "cell_type": "code",
   "execution_count": 7,
   "id": "62071ea8",
   "metadata": {},
   "outputs": [],
   "source": [
    "import numpy as np\n",
    "data = np.array(data)/255.0\n",
    "data = np.reshape(data,(data.shape[0],img_size_hight,img_size_width,3))\n",
    "target = np.array(target)"
   ]
  },
  {
   "cell_type": "code",
   "execution_count": 8,
   "id": "41843369",
   "metadata": {},
   "outputs": [],
   "source": [
    "from keras.utils import np_utils"
   ]
  },
  {
   "cell_type": "code",
   "execution_count": 9,
   "id": "c117c9dd",
   "metadata": {},
   "outputs": [],
   "source": [
    "new_target = np_utils.to_categorical(target)"
   ]
  },
  {
   "cell_type": "code",
   "execution_count": 10,
   "id": "9d5fde58",
   "metadata": {},
   "outputs": [],
   "source": [
    "#np.save('data',data)\n",
    "#np.save('target',new_target)"
   ]
  },
  {
   "cell_type": "code",
   "execution_count": 11,
   "id": "1d955fb1",
   "metadata": {},
   "outputs": [],
   "source": [
    "from sklearn.model_selection import train_test_split\n",
    "train_data,test_data,train_target,test_target = train_test_split(data,target, test_size=0.1)"
   ]
  },
  {
   "cell_type": "code",
   "execution_count": 12,
   "id": "90b4dc09",
   "metadata": {},
   "outputs": [
    {
     "data": {
      "text/plain": [
       "array([0, 1, 1, ..., 0, 0, 0])"
      ]
     },
     "execution_count": 12,
     "metadata": {},
     "output_type": "execute_result"
    }
   ],
   "source": [
    "test_target\n"
   ]
  },
  {
   "cell_type": "code",
   "execution_count": 13,
   "id": "66f529f9",
   "metadata": {},
   "outputs": [
    {
     "data": {
      "text/plain": [
       "1040"
      ]
     },
     "execution_count": 13,
     "metadata": {},
     "output_type": "execute_result"
    }
   ],
   "source": [
    "test_target.size"
   ]
  },
  {
   "cell_type": "code",
   "execution_count": 14,
   "id": "7224e5ef",
   "metadata": {},
   "outputs": [
    {
     "data": {
      "text/plain": [
       "(9360, 480, 640, 3)"
      ]
     },
     "execution_count": 14,
     "metadata": {},
     "output_type": "execute_result"
    }
   ],
   "source": [
    "train_data.shape"
   ]
  },
  {
   "cell_type": "code",
   "execution_count": 15,
   "id": "99695bad",
   "metadata": {},
   "outputs": [
    {
     "name": "stdout",
     "output_type": "stream",
     "text": [
      "We're using TF 2.12.0\n",
      "We are using Keras 2.12.0\n"
     ]
    }
   ],
   "source": [
    "\n",
    "from sklearn.metrics import accuracy_score\n",
    "import tensorflow as tf\n",
    "print(\"We're using TF\", tf.__version__)\n",
    "import keras\n",
    "import keras.models as M\n",
    "import keras.layers as L\n",
    "import keras.backend as K\n",
    "print(\"We are using Keras\", keras.__version__)\n"
   ]
  },
  {
   "cell_type": "code",
   "execution_count": 16,
   "id": "93f77bb3",
   "metadata": {},
   "outputs": [],
   "source": [
    "def build_model(num_classes):\n",
    "    model = tf.keras.Sequential([\n",
    "    tf.keras.layers.Conv2D(filters=8, kernel_size=(3, 3), activation='relu', \n",
    "                           input_shape=(480, 640,3)),\n",
    "    tf.keras.layers.MaxPooling2D(pool_size=(2, 2), strides=2),\n",
    "    tf.keras.layers.Conv2D(filters=16, kernel_size=(3, 3), activation='relu'),\n",
    "    tf.keras.layers.MaxPooling2D(pool_size=(2, 2), strides=2),\n",
    "    tf.keras.layers.Conv2D(filters=32, kernel_size=(3, 3), activation='relu'),\n",
    "    tf.keras.layers.MaxPooling2D(pool_size=(2, 2), strides=2),\n",
    "    tf.keras.layers.Flatten(),\n",
    "    tf.keras.layers.Dense(64, activation='relu'),\n",
    "    tf.keras.layers.Dense(num_classes, activation='sigmoid')\n",
    "    ])\n",
    "    return model\n",
    "model = build_model(num_classes=1)"
   ]
  },
  {
   "cell_type": "code",
   "execution_count": 17,
   "id": "dc67d891",
   "metadata": {},
   "outputs": [
    {
     "name": "stdout",
     "output_type": "stream",
     "text": [
      "Model: \"sequential\"\n",
      "_________________________________________________________________\n",
      " Layer (type)                Output Shape              Param #   \n",
      "=================================================================\n",
      " conv2d (Conv2D)             (None, 478, 638, 8)       224       \n",
      "                                                                 \n",
      " max_pooling2d (MaxPooling2D  (None, 239, 319, 8)      0         \n",
      " )                                                               \n",
      "                                                                 \n",
      " conv2d_1 (Conv2D)           (None, 237, 317, 16)      1168      \n",
      "                                                                 \n",
      " max_pooling2d_1 (MaxPooling  (None, 118, 158, 16)     0         \n",
      " 2D)                                                             \n",
      "                                                                 \n",
      " conv2d_2 (Conv2D)           (None, 116, 156, 32)      4640      \n",
      "                                                                 \n",
      " max_pooling2d_2 (MaxPooling  (None, 58, 78, 32)       0         \n",
      " 2D)                                                             \n",
      "                                                                 \n",
      " flatten (Flatten)           (None, 144768)            0         \n",
      "                                                                 \n",
      " dense (Dense)               (None, 64)                9265216   \n",
      "                                                                 \n",
      " dense_1 (Dense)             (None, 1)                 65        \n",
      "                                                                 \n",
      "=================================================================\n",
      "Total params: 9,271,313\n",
      "Trainable params: 9,271,313\n",
      "Non-trainable params: 0\n",
      "_________________________________________________________________\n",
      "None\n"
     ]
    }
   ],
   "source": [
    "model.compile(\n",
    "    optimizer=tf.keras.optimizers.Adam(learning_rate=0.0001),\n",
    "    loss=tf.keras.losses.BinaryCrossentropy(from_logits=False),\n",
    "    metrics=['accuracy']\n",
    ")\n",
    "print(model.summary())"
   ]
  },
  {
   "cell_type": "code",
   "execution_count": 18,
   "id": "728e87ad",
   "metadata": {},
   "outputs": [
    {
     "name": "stdout",
     "output_type": "stream",
     "text": [
      "Epoch 1/20\n",
      "147/147 [==============================] - 388s 3s/step - loss: 0.6418 - accuracy: 0.6208 - val_loss: 0.5986 - val_accuracy: 0.6635\n",
      "Epoch 2/20\n",
      "147/147 [==============================] - 357s 2s/step - loss: 0.5616 - accuracy: 0.7120 - val_loss: 0.5451 - val_accuracy: 0.7337\n",
      "Epoch 3/20\n",
      "147/147 [==============================] - 357s 2s/step - loss: 0.4861 - accuracy: 0.7702 - val_loss: 0.4911 - val_accuracy: 0.7673\n",
      "Epoch 4/20\n",
      "147/147 [==============================] - 358s 2s/step - loss: 0.4317 - accuracy: 0.8052 - val_loss: 0.4753 - val_accuracy: 0.7683\n",
      "Epoch 5/20\n",
      "147/147 [==============================] - 359s 2s/step - loss: 0.3712 - accuracy: 0.8458 - val_loss: 0.4164 - val_accuracy: 0.8096\n",
      "Epoch 6/20\n",
      "147/147 [==============================] - 358s 2s/step - loss: 0.3056 - accuracy: 0.8907 - val_loss: 0.3617 - val_accuracy: 0.8462\n",
      "Epoch 7/20\n",
      "147/147 [==============================] - 360s 2s/step - loss: 0.2437 - accuracy: 0.9239 - val_loss: 0.3150 - val_accuracy: 0.8750\n",
      "Epoch 8/20\n",
      "147/147 [==============================] - 368s 3s/step - loss: 0.1976 - accuracy: 0.9436 - val_loss: 0.2775 - val_accuracy: 0.8885\n",
      "Epoch 9/20\n",
      "147/147 [==============================] - 366s 2s/step - loss: 0.1515 - accuracy: 0.9650 - val_loss: 0.2817 - val_accuracy: 0.8817\n",
      "Epoch 10/20\n",
      "147/147 [==============================] - 365s 2s/step - loss: 0.1203 - accuracy: 0.9744 - val_loss: 0.2074 - val_accuracy: 0.9240\n",
      "Epoch 11/20\n",
      "147/147 [==============================] - 364s 2s/step - loss: 0.0908 - accuracy: 0.9872 - val_loss: 0.2245 - val_accuracy: 0.9077\n",
      "Epoch 12/20\n",
      "147/147 [==============================] - 368s 3s/step - loss: 0.0772 - accuracy: 0.9873 - val_loss: 0.1522 - val_accuracy: 0.9519\n",
      "Epoch 13/20\n",
      "147/147 [==============================] - 363s 2s/step - loss: 0.0531 - accuracy: 0.9955 - val_loss: 0.1484 - val_accuracy: 0.9471\n",
      "Epoch 14/20\n",
      "147/147 [==============================] - 367s 2s/step - loss: 0.0503 - accuracy: 0.9943 - val_loss: 0.1198 - val_accuracy: 0.9692\n",
      "Epoch 15/20\n",
      "147/147 [==============================] - 364s 2s/step - loss: 0.0332 - accuracy: 0.9984 - val_loss: 0.1089 - val_accuracy: 0.9769\n",
      "Epoch 16/20\n",
      "147/147 [==============================] - 368s 3s/step - loss: 0.0291 - accuracy: 0.9983 - val_loss: 0.1558 - val_accuracy: 0.9375\n",
      "Epoch 17/20\n",
      "147/147 [==============================] - 364s 2s/step - loss: 0.0224 - accuracy: 0.9987 - val_loss: 0.0854 - val_accuracy: 0.9827\n",
      "Epoch 18/20\n",
      "147/147 [==============================] - 366s 2s/step - loss: 0.0170 - accuracy: 0.9991 - val_loss: 0.0778 - val_accuracy: 0.9837\n",
      "Epoch 19/20\n",
      "147/147 [==============================] - 373s 3s/step - loss: 0.0149 - accuracy: 0.9994 - val_loss: 0.0753 - val_accuracy: 0.9846\n",
      "Epoch 20/20\n",
      "147/147 [==============================] - 370s 3s/step - loss: 0.0124 - accuracy: 0.9995 - val_loss: 0.0664 - val_accuracy: 0.9885\n"
     ]
    }
   ],
   "source": [
    "history = model.fit(\n",
    " train_data,\n",
    " train_target,\n",
    " batch_size=64, # 64 объекта для подсчета градиента на каждом шаге\n",
    " epochs=20, # 20 проходов по датасету\n",
    " validation_data=(test_data, test_target)\n",
    ")\n"
   ]
  },
  {
   "cell_type": "code",
   "execution_count": 19,
   "id": "8a4a22ea",
   "metadata": {},
   "outputs": [],
   "source": [
    "model.save('model_cars_full_20_.h5')"
   ]
  },
  {
   "cell_type": "code",
   "execution_count": 20,
   "id": "74f9d303",
   "metadata": {},
   "outputs": [
    {
     "data": {
      "text/plain": [
       "['model_cars_full_20_.sav']"
      ]
     },
     "execution_count": 20,
     "metadata": {},
     "output_type": "execute_result"
    }
   ],
   "source": [
    "import joblib\n",
    "joblib.dump(model, 'model_cars_full_20_.sav')"
   ]
  },
  {
   "cell_type": "code",
   "execution_count": 21,
   "id": "4d92b6b0",
   "metadata": {},
   "outputs": [
    {
     "data": {
      "text/plain": [
       "['model_cars_full_20_.pkl']"
      ]
     },
     "execution_count": 21,
     "metadata": {},
     "output_type": "execute_result"
    }
   ],
   "source": [
    "import pickle\n",
    "filename = 'model_cars_full_20 2.sav'\n",
    "pickle.dump(model, open(filename, 'wb'))\n",
    "joblib.dump(model, 'model_cars_full_20_.pkl')"
   ]
  },
  {
   "cell_type": "code",
   "execution_count": 23,
   "id": "3e7e5ad0",
   "metadata": {},
   "outputs": [
    {
     "name": "stdout",
     "output_type": "stream",
     "text": [
      "Точніть на тестових даних: 98.85%\n",
      "Зберігаємо мережу\n",
      "Все збережено\n"
     ]
    }
   ],
   "source": [
    "scores = model.evaluate(test_data, test_target, verbose=0)\n",
    "print(\"Точніть на тестових даних: %.2f%%\" % (scores[1]*100))\n",
    "\n",
    "print(\"Зберігаємо мережу\")\n",
    "# Зберігаємо модель для streamlit\n",
    "# Генеруємо модель в форматі json\n",
    "model_json = model.to_json()\n",
    "json_file = open(\"model_cars_full_20.json\", \"w\")\n",
    "# Запис архітектури мережі в файл \n",
    "json_file.write(model_json)\n",
    "json_file.close()\n",
    "# Записуємо дані про ваги в файл для straemlit\n",
    "model.save_weights(\"model_cars_full_20_weights.h5\")\n",
    "print(\"Все збережено\")"
   ]
  },
  {
   "cell_type": "code",
   "execution_count": 24,
   "id": "7a2f28b3",
   "metadata": {},
   "outputs": [],
   "source": [
    "import matplotlib.pyplot as plt"
   ]
  },
  {
   "cell_type": "code",
   "execution_count": 25,
   "id": "9c61189e",
   "metadata": {},
   "outputs": [
    {
     "data": {
      "image/png": "[encoded data removed]",
      "text/plain": [
       "<Figure size 800x600 with 1 Axes>"
      ]
     },
     "metadata": {},
     "output_type": "display_data"
    },
    {
     "data": {
      "image/png": "[encoded data removed]",
      "text/plain": [
       "<Figure size 800x600 with 1 Axes>"
      ]
     },
     "metadata": {},
     "output_type": "display_data"
    }
   ],
   "source": [
    "train_loss = history.history['loss']\n",
    "train_acc = history.history['accuracy']\n",
    "valid_loss = history.history['val_loss']\n",
    "valid_acc = history.history['val_accuracy']\n",
    "\n",
    "def save_plots(train_acc, valid_acc, train_loss, valid_loss):\n",
    "    \"\"\"\n",
    "    Function to save the loss and accuracy plots to disk.\n",
    "    \"\"\"\n",
    "    # accuracy plots\n",
    "    plt.figure(figsize=(8, 6))\n",
    "    plt.plot(\n",
    "        train_acc, color='green', linestyle='-', \n",
    "        label='train accuracy'\n",
    "    )\n",
    "    plt.plot(\n",
    "        valid_acc, color='blue', linestyle='-', \n",
    "        label='validataion accuracy'\n",
    "    )\n",
    "    plt.xlabel('Epochs')\n",
    "    plt.ylabel('Accuracy')\n",
    "    plt.legend()\n",
    "    plt.savefig('accuracy.png')\n",
    "    plt.show()\n",
    "    # loss plots\n",
    "    plt.figure(figsize=(8, 6))\n",
    "    plt.plot(\n",
    "        train_loss, color='orange', linestyle='-', \n",
    "        label='train loss'\n",
    "    )\n",
    "    plt.plot(\n",
    "        valid_loss, color='red', linestyle='-', \n",
    "        label='validataion loss'\n",
    "    )\n",
    "    plt.xlabel('Epochs')\n",
    "    plt.ylabel('Loss')\n",
    "    plt.legend()\n",
    "    plt.savefig('loss.png')\n",
    "    plt.show()\n",
    "save_plots(train_acc, valid_acc, train_loss, valid_loss)"
   ]
  },
  {
   "cell_type": "code",
   "execution_count": null,
   "id": "6bf1c2c1",
   "metadata": {},
   "outputs": [],
   "source": []
  }
 ],
 "metadata": {
  "kernelspec": {
   "display_name": "Python 3 (ipykernel)",
   "language": "python",
   "name": "python3"
  },
  "language_info": {
   "codemirror_mode": {
    "name": "ipython",
    "version": 3
   },
   "file_extension": ".py",
   "mimetype": "text/x-python",
   "name": "python",
   "nbconvert_exporter": "python",
   "pygments_lexer": "ipython3",
   "version": "3.9.12"
  }
 },
 "nbformat": 4,
 "nbformat_minor": 5
}
